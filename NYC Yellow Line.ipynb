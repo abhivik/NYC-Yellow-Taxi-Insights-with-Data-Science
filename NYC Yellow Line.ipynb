{
 "cells": [
  {
   "cell_type": "markdown",
   "id": "e258d1cf",
   "metadata": {},
   "source": [
    "## NYC Yellow Line Taxi"
   ]
  },
  {
   "cell_type": "markdown",
   "id": "445a51f9",
   "metadata": {},
   "source": [
    "#### Importing Pandas and Requests library"
   ]
  },
  {
   "cell_type": "code",
   "execution_count": null,
   "id": "cab3b208",
   "metadata": {},
   "outputs": [],
   "source": [
    "import pandas as pd"
   ]
  },
  {
   "cell_type": "markdown",
   "id": "f8e76491",
   "metadata": {},
   "source": [
    "#### Import the data"
   ]
  },
  {
   "cell_type": "code",
   "execution_count": null,
   "id": "009fb84d",
   "metadata": {},
   "outputs": [],
   "source": [
    "data = pd.read_csv(\"nycyellowline.csv\")\n",
    "data"
   ]
  },
  {
   "cell_type": "code",
   "execution_count": null,
   "id": "7a11495a",
   "metadata": {},
   "outputs": [],
   "source": [
    "data.info()"
   ]
  },
  {
   "cell_type": "code",
   "execution_count": null,
   "id": "13b469eb",
   "metadata": {},
   "outputs": [],
   "source": [
    "# Incase the date values are not correctly formatted\n",
    "\n",
    "# data['tpep_pickup_datetime'] = pd.to_datetime(data['tpep_pickup_datetime'], errors = 'coerce')\n",
    "# data['tpep_dropoff_datetime'] = pd.to_datetime(data['tpep_dropoff_datetime'], errors = 'coerce')"
   ]
  },
  {
   "cell_type": "code",
   "execution_count": null,
   "id": "9afee56b",
   "metadata": {},
   "outputs": [],
   "source": [
    "data.info()"
   ]
  },
  {
   "cell_type": "markdown",
   "id": "6de4bb13",
   "metadata": {},
   "source": [
    "#### Drop any duplicates from date columns"
   ]
  },
  {
   "cell_type": "code",
   "execution_count": null,
   "id": "1c3954c6",
   "metadata": {},
   "outputs": [],
   "source": [
    "data.drop_duplicates().reset_index(drop=True)\n",
    "data['trip_id'] = data.index"
   ]
  },
  {
   "cell_type": "code",
   "execution_count": null,
   "id": "382dc01a",
   "metadata": {},
   "outputs": [],
   "source": [
    "data.head(10)"
   ]
  },
  {
   "cell_type": "code",
   "execution_count": null,
   "id": "b7a07d13",
   "metadata": {},
   "outputs": [],
   "source": [
    "data.info()"
   ]
  },
  {
   "cell_type": "markdown",
   "id": "d171fb29",
   "metadata": {},
   "source": [
    "## Creating tables based of the ER Diagram created"
   ]
  },
  {
   "cell_type": "markdown",
   "id": "da616004",
   "metadata": {},
   "source": [
    "#### Creating datetime table."
   ]
  },
  {
   "cell_type": "code",
   "execution_count": null,
   "id": "326da101",
   "metadata": {},
   "outputs": [],
   "source": [
    "datetime = data[['tpep_pickup_datetime', 'tpep_dropoff_datetime']].reset_index(drop=True)\n",
    "\n",
    "datetime['tpep_pickup_datetime'] = data['tpep_pickup_datetime']\n",
    "datetime['tpep_dropoff_datetime'] = data['tpep_dropoff_datetime']\n",
    "\n",
    "# Extracting hour, day, month, year, and weekday values in new respective columns\n",
    "datetime['pickup_hour'] = data['tpep_pickup_datetime'].dt.hour\n",
    "datetime['pickup_day'] = data['tpep_pickup_datetime'].dt.day\n",
    "datetime['pickup_month'] = data['tpep_pickup_datetime'].dt.month\n",
    "datetime['pickup_year'] = data['tpep_pickup_datetime'].dt.year\n",
    "datetime['pickup_weekday'] = data['tpep_pickup_datetime'].dt.weekday\n",
    "\n",
    "datetime['tpep_dropoff_datetime'] = data['tpep_dropoff_datetime']\n",
    "\n",
    "# Extracting hour, day, month, year, and weekday values in new respective columns\n",
    "datetime['drop_hour'] = data['tpep_dropoff_datetime'].dt.hour\n",
    "datetime['drop_day'] = data['tpep_dropoff_datetime'].dt.day\n",
    "datetime['drop_month'] = data['tpep_dropoff_datetime'].dt.month\n",
    "datetime['drop_year'] = data['tpep_dropoff_datetime'].dt.year\n",
    "datetime['drop_weekday'] = data['tpep_dropoff_datetime'].dt.weekday\n",
    "\n",
    "datetime['datetime_id'] = datetime.index\n",
    "\n",
    "# Combining all the cloumns in a single table 'datetime'\n",
    "datetime = datetime[['datetime_id', 'tpep_pickup_datetime', 'pickup_hour', 'pickup_day', 'pickup_month', 'pickup_year', \n",
    "                     'pickup_weekday', 'tpep_dropoff_datetime', 'drop_day', 'drop_month', 'drop_year', 'drop_weekday']]\n",
    "\n",
    "\n",
    "# saving the output to csv\n",
    "datetime.to_csv('datetime.csv')"
   ]
  },
  {
   "cell_type": "markdown",
   "id": "2a888691",
   "metadata": {},
   "source": [
    "#### Creating passenger_count table"
   ]
  },
  {
   "cell_type": "code",
   "execution_count": null,
   "id": "90736175",
   "metadata": {},
   "outputs": [],
   "source": [
    "passenger_count_dim = data[['passenger_count']].reset_index(drop=True)\n",
    "passenger_count_dim['passenger_count_id'] = passenger_count_dim.index\n",
    "passenger_count_dim = passenger_count_dim[['passenger_count_id','passenger_count']]\n",
    "\n",
    "# saving the output to csv\n",
    "passenger_count_dim.to_csv('passenger_count.csv')"
   ]
  },
  {
   "cell_type": "code",
   "execution_count": null,
   "id": "0c60dd10",
   "metadata": {},
   "outputs": [],
   "source": [
    "data.info()"
   ]
  },
  {
   "cell_type": "markdown",
   "id": "9e498e78",
   "metadata": {},
   "source": [
    "#### Creating trip_distance table"
   ]
  },
  {
   "cell_type": "code",
   "execution_count": null,
   "id": "ee66f999",
   "metadata": {},
   "outputs": [],
   "source": [
    "trip_distance_dim = data[['trip_distance']].reset_index(drop=True)\n",
    "trip_distance_dim['trip_distance_id'] = trip_distance_dim.index\n",
    "trip_distance_dim = trip_distance_dim[['trip_distance_id', 'trip_distance']]\n",
    "\n",
    "# saving the output to csv\n",
    "trip_distance_dim.to_csv('trip_distance.csv')"
   ]
  },
  {
   "cell_type": "markdown",
   "id": "59c1c2dc",
   "metadata": {},
   "source": [
    "#### Creating pickup_location table"
   ]
  },
  {
   "cell_type": "code",
   "execution_count": null,
   "id": "2701e35c",
   "metadata": {},
   "outputs": [],
   "source": [
    "pickup_location = data[['pickup_longitude', 'pickup_latitude']].reset_index(drop=True)\n",
    "pickup_location['pickup_location_id'] = pickup_location.index\n",
    "pickup_location = pickup_location[['pickup_location_id', 'pickup_longitude', 'pickup_latitude']]\n",
    "\n",
    "# saving the output to csv\n",
    "pickup_location.to_csv('pickup_location.csv')"
   ]
  },
  {
   "cell_type": "markdown",
   "id": "14ce0536",
   "metadata": {},
   "source": [
    "#### Creating dropoff_location table"
   ]
  },
  {
   "cell_type": "code",
   "execution_count": null,
   "id": "c0b9efb3",
   "metadata": {},
   "outputs": [],
   "source": [
    "dropoff_location = data[['dropoff_longitude', 'dropoff_latitude']].reset_index(drop=True)\n",
    "dropoff_location['dropoff_location_id'] = dropoff_location.index\n",
    "dropoff_location = dropoff_location[['dropoff_location_id', 'dropoff_longitude', 'dropoff_latitude']]\n",
    "\n",
    "# saving the output to csv\n",
    "dropoff_location.to_csv('dropoff_location.csv')"
   ]
  },
  {
   "cell_type": "markdown",
   "id": "6036dc39",
   "metadata": {},
   "source": [
    "#### Making payment_type table in refrence to 'data_dictionary_trip_records_green' file"
   ]
  },
  {
   "cell_type": "code",
   "execution_count": null,
   "id": "4d2c1b78",
   "metadata": {},
   "outputs": [],
   "source": [
    "payment_type_name = {1:'Credit Card', 2:'Cash', 3:'No Charge', 4:'Dispute', 5:'Unknown', 6:'Voided Trip'}\n",
    "\n",
    "payment_type = data[['payment_type']].reset_index(drop=True)\n",
    "payment_type['payment_type_id'] = payment_type.index\n",
    "payment_type['payment_type_name'] = payment_type['payment_type'].map(payment_type_name)\n",
    "payment_type = payment_type[['payment_type_id','payment_type','payment_type_name']]\n",
    "\n",
    "# saving the output to csv\n",
    "payment_type.to_csv('payment_type.csv')"
   ]
  },
  {
   "cell_type": "markdown",
   "id": "2f38ad2d",
   "metadata": {},
   "source": [
    "#### Making rate_code table in refrence to 'data_dictionary_trip_records_green' file"
   ]
  },
  {
   "cell_type": "code",
   "execution_count": null,
   "id": "1af7f5ad",
   "metadata": {},
   "outputs": [],
   "source": [
    "rate_code_type = {\n",
    "    1:\"Standard rate\",\n",
    "    2:\"JFK\",\n",
    "    3:\"Newark\",\n",
    "    4:\"Nassau or Westchester\",\n",
    "    5:\"Negotiated fare\",\n",
    "    6:\"Group ride\"\n",
    "}\n",
    "\n",
    "rate_code = data[['RatecodeID']].reset_index(drop=True)\n",
    "rate_code['rate_code_id'] = rate_code.index\n",
    "rate_code['rate_code_name'] = rate_code['RatecodeID'].map(rate_code_type)\n",
    "rate_code = rate_code_dim[['rate_code_id','RatecodeID','rate_code_name']]\n",
    "\n",
    "# saving the output to csv\n",
    "rate_code.to_csv('rate_code.csv')"
   ]
  },
  {
   "cell_type": "code",
   "execution_count": null,
   "id": "3a5cc9ed",
   "metadata": {},
   "outputs": [],
   "source": [
    "data.info()"
   ]
  },
  {
   "cell_type": "markdown",
   "id": "7d662ab1",
   "metadata": {},
   "source": [
    "#### Creating fact_table table"
   ]
  },
  {
   "cell_type": "code",
   "execution_count": 90,
   "id": "a5fb546d",
   "metadata": {},
   "outputs": [],
   "source": [
    "# List of dataframes to be merged\n",
    "merge_dataframes = [passenger_count_dim, trip_distance_dim, rate_code, pickup_location,\n",
    "                    dropoff_location, datetime, payment_type]\n",
    "\n",
    "# Merge dataframes one by one on 'trip_id'\n",
    "fact_table = data.copy()\n",
    "\n",
    "for df in merge_dataframes:\n",
    "    fact_table = fact_table.merge(df, left_on='trip_id', right_on=f'{df.columns[0]}')\n",
    "\n",
    "# Select desired columns\n",
    "selected_columns = ['trip_id', 'VendorID', 'datetime_id', 'passenger_count_id',\n",
    "                    'trip_distance_id', 'rate_code_id', 'store_and_fwd_flag',\n",
    "                    'pickup_location_id', 'dropoff_location_id', 'payment_type_id',\n",
    "                    'fare_amount', 'extra', 'mta_tax', 'tip_amount', 'tolls_amount',\n",
    "                    'improvement_surcharge', 'total_amount']\n",
    "\n",
    "fact_table = fact_table[selected_columns]\n",
    "fact_table.to_csv('fact_table.csv')"
   ]
  }
 ],
 "metadata": {
  "kernelspec": {
   "display_name": "Python 3 (ipykernel)",
   "language": "python",
   "name": "python3"
  },
  "language_info": {
   "codemirror_mode": {
    "name": "ipython",
    "version": 3
   },
   "file_extension": ".py",
   "mimetype": "text/x-python",
   "name": "python",
   "nbconvert_exporter": "python",
   "pygments_lexer": "ipython3",
   "version": "3.11.5"
  }
 },
 "nbformat": 4,
 "nbformat_minor": 5
}
